{
 "cells": [
  {
   "cell_type": "code",
   "execution_count": 1,
   "metadata": {},
   "outputs": [
    {
     "name": "stdout",
     "output_type": "stream",
     "text": [
      "Requirement already satisfied: firebase in c:\\users\\whispering shadow\\anaconda3\\lib\\site-packages (3.0.1)\n",
      "Requirement already satisfied: requests in c:\\users\\whispering shadow\\anaconda3\\lib\\site-packages (from firebase) (2.24.0)\n",
      "Requirement already satisfied: urllib3!=1.25.0,!=1.25.1,<1.26,>=1.21.1 in c:\\users\\whispering shadow\\anaconda3\\lib\\site-packages (from requests->firebase) (1.25.11)\n",
      "Requirement already satisfied: idna<3,>=2.5 in c:\\users\\whispering shadow\\anaconda3\\lib\\site-packages (from requests->firebase) (2.10)\n",
      "Requirement already satisfied: chardet<4,>=3.0.2 in c:\\users\\whispering shadow\\anaconda3\\lib\\site-packages (from requests->firebase) (3.0.4)\n",
      "Requirement already satisfied: certifi>=2017.4.17 in c:\\users\\whispering shadow\\anaconda3\\lib\\site-packages (from requests->firebase) (2020.6.20)\n"
     ]
    }
   ],
   "source": [
    "!pip install firebase"
   ]
  },
  {
   "cell_type": "code",
   "execution_count": 2,
   "metadata": {},
   "outputs": [],
   "source": [
    "import firebase_admin"
   ]
  },
  {
   "cell_type": "code",
   "execution_count": 3,
   "metadata": {},
   "outputs": [],
   "source": [
    "from firebase_admin import credentials\n",
    "from firebase_admin import firestore\n"
   ]
  },
  {
   "cell_type": "code",
   "execution_count": 4,
   "metadata": {},
   "outputs": [],
   "source": [
    "# Step 5 - Download the cred key from the Firebase "
   ]
  },
  {
   "cell_type": "code",
   "execution_count": 5,
   "metadata": {},
   "outputs": [],
   "source": [
    "# Step 6- Place it in your Folder where the \n",
    "# Firebase project is happening "
   ]
  },
  {
   "cell_type": "code",
   "execution_count": 9,
   "metadata": {},
   "outputs": [
    {
     "ename": "ValueError",
     "evalue": "The default Firebase app already exists. This means you called initialize_app() more than once without providing an app name as the second argument. In most cases you only need to call initialize_app() once. But if you do want to initialize multiple apps, pass a second argument to initialize_app() to give each app a unique name.",
     "output_type": "error",
     "traceback": [
      "\u001b[1;31m---------------------------------------------------------------------------\u001b[0m",
      "\u001b[1;31mValueError\u001b[0m                                Traceback (most recent call last)",
      "\u001b[1;32m<ipython-input-9-079680452194>\u001b[0m in \u001b[0;36m<module>\u001b[1;34m\u001b[0m\n\u001b[0;32m      1\u001b[0m \u001b[0mcred\u001b[0m \u001b[1;33m=\u001b[0m \u001b[0mcredentials\u001b[0m\u001b[1;33m.\u001b[0m\u001b[0mCertificate\u001b[0m\u001b[1;33m(\u001b[0m\u001b[1;34m\"python-demo-project-5f5e6-firebase-adminsdk-eip73-df0f38223d.json\"\u001b[0m\u001b[1;33m)\u001b[0m\u001b[1;33m\u001b[0m\u001b[1;33m\u001b[0m\u001b[0m\n\u001b[1;32m----> 2\u001b[1;33m \u001b[0mfirebase_admin\u001b[0m\u001b[1;33m.\u001b[0m\u001b[0minitialize_app\u001b[0m\u001b[1;33m(\u001b[0m\u001b[0mcred\u001b[0m\u001b[1;33m)\u001b[0m\u001b[1;33m\u001b[0m\u001b[1;33m\u001b[0m\u001b[0m\n\u001b[0m",
      "\u001b[1;32m~\\AppData\\Roaming\\Python\\Python38\\site-packages\\firebase_admin\\__init__.py\u001b[0m in \u001b[0;36minitialize_app\u001b[1;34m(credential, options, name)\u001b[0m\n\u001b[0;32m     69\u001b[0m \u001b[1;33m\u001b[0m\u001b[0m\n\u001b[0;32m     70\u001b[0m     \u001b[1;32mif\u001b[0m \u001b[0mname\u001b[0m \u001b[1;33m==\u001b[0m \u001b[0m_DEFAULT_APP_NAME\u001b[0m\u001b[1;33m:\u001b[0m\u001b[1;33m\u001b[0m\u001b[1;33m\u001b[0m\u001b[0m\n\u001b[1;32m---> 71\u001b[1;33m         raise ValueError((\n\u001b[0m\u001b[0;32m     72\u001b[0m             \u001b[1;34m'The default Firebase app already exists. This means you called '\u001b[0m\u001b[1;33m\u001b[0m\u001b[1;33m\u001b[0m\u001b[0m\n\u001b[0;32m     73\u001b[0m             \u001b[1;34m'initialize_app() more than once without providing an app name as '\u001b[0m\u001b[1;33m\u001b[0m\u001b[1;33m\u001b[0m\u001b[0m\n",
      "\u001b[1;31mValueError\u001b[0m: The default Firebase app already exists. This means you called initialize_app() more than once without providing an app name as the second argument. In most cases you only need to call initialize_app() once. But if you do want to initialize multiple apps, pass a second argument to initialize_app() to give each app a unique name."
     ]
    }
   ],
   "source": [
    "cred = credentials.Certificate(\"python-demo-project-5f5e6-firebase-adminsdk-eip73-df0f38223d.json\")\n",
    "firebase_admin.initialize_app(cred)"
   ]
  },
  {
   "cell_type": "code",
   "execution_count": 7,
   "metadata": {},
   "outputs": [],
   "source": [
    "db = firestore.client()"
   ]
  },
  {
   "cell_type": "code",
   "execution_count": 20,
   "metadata": {},
   "outputs": [
    {
     "data": {
      "text/plain": [
       "update_time {\n",
       "  seconds: 1608457381\n",
       "  nanos: 777511000\n",
       "}"
      ]
     },
     "execution_count": 20,
     "metadata": {},
     "output_type": "execute_result"
    }
   ],
   "source": [
    "doc_ref = db.collection(u'users').document(u'abc')\n",
    "doc_ref.set({\n",
    "    u'first': u'Nikhil',\n",
    "    u'last': u'Mastud',\n",
    "    u'born': 1999\n",
    "})\n"
   ]
  },
  {
   "cell_type": "code",
   "execution_count": 30,
   "metadata": {},
   "outputs": [],
   "source": [
    "#step-7\n",
    "def enterDataInDB():\n",
    "    doc_ref = db.collection(u'LetsUpgradeUsers').document()\n",
    "    \n",
    "    name = input(\"Enter Name - \")\n",
    "    lastName = input(\"Enter Last Name - \")\n",
    "    age = int(input(\"Enter Age - \"))\n",
    "    \n",
    "    dit = {}\n",
    "    dit[\"firstName\"] = name\n",
    "    dit[\"lastName\"] = lastName\n",
    "    dit[\"age\"] = age\n",
    "    doc_ref.set(dit)\n",
    "    \n",
    "    \n",
    "    "
   ]
  },
  {
   "cell_type": "code",
   "execution_count": 24,
   "metadata": {},
   "outputs": [],
   "source": [
    "enterDataInDB(\"Omkar\",\"Shinde\",21)"
   ]
  },
  {
   "cell_type": "code",
   "execution_count": 25,
   "metadata": {},
   "outputs": [],
   "source": [
    "enterDataInDB(\"Suraj\",\"Jadhav\",21)"
   ]
  },
  {
   "cell_type": "code",
   "execution_count": 26,
   "metadata": {},
   "outputs": [],
   "source": [
    "enterDataInDB(\"Sahil\",\"Khambe\",22)"
   ]
  },
  {
   "cell_type": "code",
   "execution_count": 27,
   "metadata": {},
   "outputs": [],
   "source": [
    "enterDataInDB(\"Keshav\",\"Mastud\",60)"
   ]
  },
  {
   "cell_type": "code",
   "execution_count": 28,
   "metadata": {},
   "outputs": [],
   "source": [
    "enterDataInDB(\"Nanda\",\"Mastud\",50)"
   ]
  },
  {
   "cell_type": "code",
   "execution_count": 31,
   "metadata": {},
   "outputs": [
    {
     "name": "stdout",
     "output_type": "stream",
     "text": [
      "Enter Name - Ayush\n",
      "Enter Last Name - Shinde\n",
      "Enter Age - 17\n"
     ]
    }
   ],
   "source": [
    "enterDataInDB()"
   ]
  },
  {
   "cell_type": "code",
   "execution_count": 32,
   "metadata": {},
   "outputs": [
    {
     "name": "stdout",
     "output_type": "stream",
     "text": [
      "Enter Name - Ayush\n",
      "Enter Last Name - Shide\n",
      "Enter Age - 18\n"
     ]
    }
   ],
   "source": [
    "enterDataInDB()"
   ]
  },
  {
   "cell_type": "code",
   "execution_count": 33,
   "metadata": {},
   "outputs": [],
   "source": [
    "# Step 8 - Read Data From Firebase DB (Firebase)"
   ]
  },
  {
   "cell_type": "code",
   "execution_count": 52,
   "metadata": {},
   "outputs": [
    {
     "name": "stdout",
     "output_type": "stream",
     "text": [
      "B3S65CIeyR2WnODDiMTI => {'firstName': 'Nanda', 'lastName': 'Mastud', 'age': 50}\n",
      "ID - B3S65CIeyR2WnODDiMTI\n",
      "First Name -  || Nanda\n",
      "Last Name -  || Mastud\n",
      "Age -  || 50\n",
      "---------------\n",
      "---------------\n",
      "BWuKsidZiheZ6Xp4remy => {'lastName': 'Shide', 'age': 18, 'firstName': 'Ayush'}\n",
      "ID - BWuKsidZiheZ6Xp4remy\n",
      "First Name -  || Ayush\n",
      "Last Name -  || Shide\n",
      "Age -  || 18\n",
      "---------------\n",
      "---------------\n",
      "ZMSxjv0EBIZPh00SFdIC => {'firstName': 'Omkar', 'age': 21, 'lastName': 'Shinde'}\n",
      "ID - ZMSxjv0EBIZPh00SFdIC\n",
      "First Name -  || Omkar\n",
      "Last Name -  || Shinde\n",
      "Age -  || 21\n",
      "---------------\n",
      "---------------\n",
      "d9aNMJw55sKdZIMYIi65 => {'age': 25, 'firstName': 'Suraj', 'lastName': 'Jadhav'}\n",
      "ID - d9aNMJw55sKdZIMYIi65\n",
      "First Name -  || Suraj\n",
      "Last Name -  || Jadhav\n",
      "Age -  || 25\n",
      "---------------\n",
      "---------------\n",
      "oqDCHC3bIAAR608ooS3r => {'age': 17, 'firstName': 'Ayush', 'lastName': 'Shinde'}\n",
      "ID - oqDCHC3bIAAR608ooS3r\n",
      "First Name -  || Ayush\n",
      "Last Name -  || Shinde\n",
      "Age -  || 17\n",
      "---------------\n",
      "---------------\n"
     ]
    }
   ],
   "source": [
    "docs = db.collection(u'LetsUpgradeUsers').stream()\n",
    "for doc in docs:\n",
    "    print(f'{doc.id} => {doc.to_dict()}')\n",
    "    print(\"ID -\", doc.id)\n",
    "    print(\"First Name - \", \"||\" ,doc.to_dict().get(\"firstName\"))\n",
    "    print(\"Last Name - \",\"||\" , doc.to_dict().get(\"lastName\"))\n",
    "    print(\"Age - \",\"||\" , doc.to_dict().get(\"age\") )\n",
    "    \n",
    "    print(\"---------------\")\n",
    "    print(\"---------------\")\n",
    "    "
   ]
  },
  {
   "cell_type": "code",
   "execution_count": 49,
   "metadata": {},
   "outputs": [],
   "source": [
    "# Step 9 - Update a Entry \n",
    "\n",
    "def updateDatainFirebase(uid, updatedAge):\n",
    "    doc_ref = db.collection(u'LetsUpgradeUsers').document(uid)\n",
    "    print(\"Data Updated\")\n",
    "    doc_ref.update({\"age\":updatedAge})\n",
    "   "
   ]
  },
  {
   "cell_type": "code",
   "execution_count": 51,
   "metadata": {},
   "outputs": [
    {
     "name": "stdout",
     "output_type": "stream",
     "text": [
      "Data Updated\n"
     ]
    }
   ],
   "source": [
    "updateDatainFirebase(\"d9aNMJw55sKdZIMYIi65\",25)"
   ]
  },
  {
   "cell_type": "code",
   "execution_count": 43,
   "metadata": {},
   "outputs": [],
   "source": [
    "# Step 10 - Delete Data from Firebase \n",
    "\n",
    "def deleteDataInFirebase(uid):\n",
    "    db.collection(u'LetsUpgradeUsers').document(uid).delete()\n",
    "    print(\"Data Deleted\")\n"
   ]
  },
  {
   "cell_type": "code",
   "execution_count": 44,
   "metadata": {},
   "outputs": [
    {
     "name": "stdout",
     "output_type": "stream",
     "text": [
      "Data Deleted\n"
     ]
    }
   ],
   "source": [
    "deleteDataInFirebase(\"dpMri82VCSVYOM9UUng5\")\n"
   ]
  },
  {
   "cell_type": "code",
   "execution_count": null,
   "metadata": {},
   "outputs": [],
   "source": []
  }
 ],
 "metadata": {
  "kernelspec": {
   "display_name": "Python 3",
   "language": "python",
   "name": "python3"
  },
  "language_info": {
   "codemirror_mode": {
    "name": "ipython",
    "version": 3
   },
   "file_extension": ".py",
   "mimetype": "text/x-python",
   "name": "python",
   "nbconvert_exporter": "python",
   "pygments_lexer": "ipython3",
   "version": "3.8.5"
  }
 },
 "nbformat": 4,
 "nbformat_minor": 4
}
