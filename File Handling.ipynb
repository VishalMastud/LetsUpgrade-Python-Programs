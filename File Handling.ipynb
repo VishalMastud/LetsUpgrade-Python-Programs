{
 "cells": [
  {
   "cell_type": "code",
   "execution_count": 8,
   "metadata": {},
   "outputs": [],
   "source": [
    "Information = open(\"Assignment.txt\",'w')\n",
    "\n",
    "Information.write(\"Hey Guys This is Vishal\")\n",
    "\n",
    "Information.close()\n",
    "\n",
    "Information = open(\"Assignment.txt\",'r')\n",
    "\n",
    "info =Information.read()\n",
    "\n",
    "Information.close()\n",
    "\n",
    "Information = open(\"Assignment.txt\",'a')\n",
    "\n",
    "Information.write(\" Nikhil is my brother \")\n",
    "           \n",
    "Information.close()   \n",
    "\n",
    "Information = open(\"Assignment.txt\",'r')\n",
    "\n",
    "info =Information.read()\n",
    "\n",
    "Information.close()"
   ]
  },
  {
   "cell_type": "code",
   "execution_count": 9,
   "metadata": {},
   "outputs": [
    {
     "data": {
      "text/plain": [
       "'Hey Guys This is Vishal Nikhil is my brother '"
      ]
     },
     "execution_count": 9,
     "metadata": {},
     "output_type": "execute_result"
    }
   ],
   "source": [
    "info"
   ]
  },
  {
   "cell_type": "code",
   "execution_count": null,
   "metadata": {},
   "outputs": [],
   "source": []
  }
 ],
 "metadata": {
  "kernelspec": {
   "display_name": "Python 3",
   "language": "python",
   "name": "python3"
  },
  "language_info": {
   "codemirror_mode": {
    "name": "ipython",
    "version": 3
   },
   "file_extension": ".py",
   "mimetype": "text/x-python",
   "name": "python",
   "nbconvert_exporter": "python",
   "pygments_lexer": "ipython3",
   "version": "3.8.5"
  }
 },
 "nbformat": 4,
 "nbformat_minor": 4
}
