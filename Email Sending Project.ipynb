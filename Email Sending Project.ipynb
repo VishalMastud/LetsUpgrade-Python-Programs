{
 "cells": [
  {
   "cell_type": "code",
   "execution_count": 1,
   "metadata": {},
   "outputs": [
    {
     "name": "stdout",
     "output_type": "stream",
     "text": [
      "Requirement already satisfied: emails in c:\\users\\whispering shadow\\anaconda3\\lib\\site-packages (0.6)\n",
      "Requirement already satisfied: chardet in c:\\users\\whispering shadow\\anaconda3\\lib\\site-packages (from emails) (3.0.4)\n",
      "Requirement already satisfied: cssutils in c:\\users\\whispering shadow\\anaconda3\\lib\\site-packages (from emails) (1.0.2)\n",
      "Requirement already satisfied: python-dateutil in c:\\users\\whispering shadow\\anaconda3\\lib\\site-packages (from emails) (2.8.1)\n",
      "Requirement already satisfied: lxml in c:\\users\\whispering shadow\\anaconda3\\lib\\site-packages (from emails) (4.6.1)\n",
      "Requirement already satisfied: requests in c:\\users\\whispering shadow\\anaconda3\\lib\\site-packages (from emails) (2.24.0)\n",
      "Requirement already satisfied: premailer in c:\\users\\whispering shadow\\anaconda3\\lib\\site-packages (from emails) (3.7.0)\n",
      "Requirement already satisfied: six>=1.5 in c:\\users\\whispering shadow\\anaconda3\\lib\\site-packages (from python-dateutil->emails) (1.15.0)\n",
      "Requirement already satisfied: idna<3,>=2.5 in c:\\users\\whispering shadow\\anaconda3\\lib\\site-packages (from requests->emails) (2.10)\n",
      "Requirement already satisfied: urllib3!=1.25.0,!=1.25.1,<1.26,>=1.21.1 in c:\\users\\whispering shadow\\anaconda3\\lib\\site-packages (from requests->emails) (1.25.11)\n",
      "Requirement already satisfied: certifi>=2017.4.17 in c:\\users\\whispering shadow\\anaconda3\\lib\\site-packages (from requests->emails) (2020.6.20)\n",
      "Requirement already satisfied: cssselect in c:\\users\\whispering shadow\\anaconda3\\lib\\site-packages (from premailer->emails) (1.1.0)\n",
      "Requirement already satisfied: cachetools in c:\\users\\whispering shadow\\anaconda3\\lib\\site-packages (from premailer->emails) (4.2.0)\n"
     ]
    }
   ],
   "source": [
    "!pip install emails"
   ]
  },
  {
   "cell_type": "code",
   "execution_count": 7,
   "metadata": {},
   "outputs": [],
   "source": [
    "import emails"
   ]
  },
  {
   "cell_type": "code",
   "execution_count": null,
   "metadata": {},
   "outputs": [],
   "source": []
  },
  {
   "cell_type": "code",
   "execution_count": 4,
   "metadata": {},
   "outputs": [],
   "source": [
    "def sendMail(email, name):\n",
    "    html_text = '''<p>hey rowdy,'''+ name +'''</p>\n",
    "<p><br></p>\n",
    "<p>how are you this is VISHAL FROM LETSUPGRADE.</p>\n",
    "<p><br></p>\n",
    "<p>Student At LU!!</p>\n",
    "<p><br></p>\n",
    "<p>Love To Learn From You</p>\n",
    "<p><br></p>\n",
    "<p><strong><span style=\"font-size: 18px;\">Regards,</span></strong></p>\n",
    "<p><strong><span style=\"font-size: 18px;\">Vishal</span></strong></p>'''\n",
    "    \n",
    "    subject=\"Hey Rowdy \"+ name +\",You Have Email From Vishal\"\n",
    "\n",
    "    message = emails.html(html=html_text,\n",
    "                          subject=subject,\n",
    "                          mail_from=('Rowdy Vishal', 'Vishal@xyz.com'))\n",
    "    \n",
    "    mail_via_python = message.send(to=email, smtp={'host': 'smtp.gmail.com', 'timeout': 5,\n",
    "                                                     'port':587,'user':'Your Email Adress',\n",
    "                                                    'password':'Your Password','tls':True})\n",
    "\n",
    "    return mail_via_python.status_code"
   ]
  },
  {
   "cell_type": "code",
   "execution_count": 5,
   "metadata": {},
   "outputs": [
    {
     "data": {
      "text/plain": [
       "250"
      ]
     },
     "execution_count": 5,
     "metadata": {},
     "output_type": "execute_result"
    }
   ],
   "source": [
    "sendMail(\"nikhilmastud18199@gmail.com\",\"Nikhil\")"
   ]
  },
  {
   "cell_type": "code",
   "execution_count": null,
   "metadata": {},
   "outputs": [],
   "source": []
  }
 ],
 "metadata": {
  "kernelspec": {
   "display_name": "Python 3",
   "language": "python",
   "name": "python3"
  },
  "language_info": {
   "codemirror_mode": {
    "name": "ipython",
    "version": 3
   },
   "file_extension": ".py",
   "mimetype": "text/x-python",
   "name": "python",
   "nbconvert_exporter": "python",
   "pygments_lexer": "ipython3",
   "version": "3.8.5"
  }
 },
 "nbformat": 4,
 "nbformat_minor": 4
}
